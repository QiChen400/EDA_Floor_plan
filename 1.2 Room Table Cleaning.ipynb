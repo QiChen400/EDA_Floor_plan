{
 "cells": [
  {
   "cell_type": "markdown",
   "metadata": {},
   "source": [
    "# Room Table Cleaning"
   ]
  },
  {
   "cell_type": "code",
   "execution_count": 2,
   "metadata": {},
   "outputs": [],
   "source": [
    "import pandas as pd\n",
    "import json\n",
    "import numpy as np\n",
    "import seaborn as sns\n",
    "import matplotlib.pyplot as plt\n",
    "from scipy import stats"
   ]
  },
  {
   "cell_type": "code",
   "execution_count": 59,
   "metadata": {},
   "outputs": [
    {
     "data": {
      "text/html": [
       "<div>\n",
       "<style scoped>\n",
       "    .dataframe tbody tr th:only-of-type {\n",
       "        vertical-align: middle;\n",
       "    }\n",
       "\n",
       "    .dataframe tbody tr th {\n",
       "        vertical-align: top;\n",
       "    }\n",
       "\n",
       "    .dataframe thead th {\n",
       "        text-align: right;\n",
       "    }\n",
       "</style>\n",
       "<table border=\"1\" class=\"dataframe\">\n",
       "  <thead>\n",
       "    <tr style=\"text-align: right;\">\n",
       "      <th></th>\n",
       "      <th>uuid</th>\n",
       "      <th>floor_id</th>\n",
       "      <th>data</th>\n",
       "      <th>_fivetran_synced</th>\n",
       "      <th>_fivetran_deleted</th>\n",
       "      <th>work_units</th>\n",
       "      <th>physical_desk_count</th>\n",
       "    </tr>\n",
       "  </thead>\n",
       "  <tbody>\n",
       "    <tr>\n",
       "      <th>0</th>\n",
       "      <td>c3908d85-7f57-45ed-b2c8-d2ba2c25037b</td>\n",
       "      <td>00018f5b-75e0-4f27-a01a-576fd6b9050a</td>\n",
       "      <td>{\"name\":\"PRIVATE OFFICE\",\"number\":\"02-106\",\"uu...</td>\n",
       "      <td>2018-11-13 05:13:27.541</td>\n",
       "      <td>NaN</td>\n",
       "      <td>18.0</td>\n",
       "      <td>18.0</td>\n",
       "    </tr>\n",
       "    <tr>\n",
       "      <th>1</th>\n",
       "      <td>119e406f-ff59-4019-ad88-f14376e93d57</td>\n",
       "      <td>00018f5b-75e0-4f27-a01a-576fd6b9050a</td>\n",
       "      <td>{\"name\":\"PRIVATE OFFICE\",\"number\":\"02-116\",\"uu...</td>\n",
       "      <td>2018-11-13 05:13:27.541</td>\n",
       "      <td>NaN</td>\n",
       "      <td>19.0</td>\n",
       "      <td>19.0</td>\n",
       "    </tr>\n",
       "    <tr>\n",
       "      <th>2</th>\n",
       "      <td>a9064324-9c09-426e-998f-bb066aead2e6</td>\n",
       "      <td>00018f5b-75e0-4f27-a01a-576fd6b9050a</td>\n",
       "      <td>{\"name\":\"PRIVATE OFFICE\",\"number\":\"02-110\",\"uu...</td>\n",
       "      <td>2018-11-13 05:13:27.541</td>\n",
       "      <td>NaN</td>\n",
       "      <td>24.0</td>\n",
       "      <td>24.0</td>\n",
       "    </tr>\n",
       "    <tr>\n",
       "      <th>3</th>\n",
       "      <td>37801461-6d16-4f21-bc72-f1183ba67dd8</td>\n",
       "      <td>00018f5b-75e0-4f27-a01a-576fd6b9050a</td>\n",
       "      <td>{\"name\":\"PRIVATE OFFICE\",\"number\":\"02-109\",\"uu...</td>\n",
       "      <td>2018-11-13 05:13:27.541</td>\n",
       "      <td>NaN</td>\n",
       "      <td>31.0</td>\n",
       "      <td>31.0</td>\n",
       "    </tr>\n",
       "    <tr>\n",
       "      <th>4</th>\n",
       "      <td>45bc8773-69d1-49a2-8f9a-662c29265fe7</td>\n",
       "      <td>00018f5b-75e0-4f27-a01a-576fd6b9050a</td>\n",
       "      <td>{\"name\":\"CONFERENCE ROOM\",\"number\":\"02A\",\"uuid...</td>\n",
       "      <td>2018-11-13 05:13:27.541</td>\n",
       "      <td>NaN</td>\n",
       "      <td>0.0</td>\n",
       "      <td>0.0</td>\n",
       "    </tr>\n",
       "  </tbody>\n",
       "</table>\n",
       "</div>"
      ],
      "text/plain": [
       "                                   uuid                              floor_id  \\\n",
       "0  c3908d85-7f57-45ed-b2c8-d2ba2c25037b  00018f5b-75e0-4f27-a01a-576fd6b9050a   \n",
       "1  119e406f-ff59-4019-ad88-f14376e93d57  00018f5b-75e0-4f27-a01a-576fd6b9050a   \n",
       "2  a9064324-9c09-426e-998f-bb066aead2e6  00018f5b-75e0-4f27-a01a-576fd6b9050a   \n",
       "3  37801461-6d16-4f21-bc72-f1183ba67dd8  00018f5b-75e0-4f27-a01a-576fd6b9050a   \n",
       "4  45bc8773-69d1-49a2-8f9a-662c29265fe7  00018f5b-75e0-4f27-a01a-576fd6b9050a   \n",
       "\n",
       "                                                data         _fivetran_synced  \\\n",
       "0  {\"name\":\"PRIVATE OFFICE\",\"number\":\"02-106\",\"uu...  2018-11-13 05:13:27.541   \n",
       "1  {\"name\":\"PRIVATE OFFICE\",\"number\":\"02-116\",\"uu...  2018-11-13 05:13:27.541   \n",
       "2  {\"name\":\"PRIVATE OFFICE\",\"number\":\"02-110\",\"uu...  2018-11-13 05:13:27.541   \n",
       "3  {\"name\":\"PRIVATE OFFICE\",\"number\":\"02-109\",\"uu...  2018-11-13 05:13:27.541   \n",
       "4  {\"name\":\"CONFERENCE ROOM\",\"number\":\"02A\",\"uuid...  2018-11-13 05:13:27.541   \n",
       "\n",
       "   _fivetran_deleted  work_units  physical_desk_count  \n",
       "0                NaN        18.0                 18.0  \n",
       "1                NaN        19.0                 19.0  \n",
       "2                NaN        24.0                 24.0  \n",
       "3                NaN        31.0                 31.0  \n",
       "4                NaN         0.0                  0.0  "
      ]
     },
     "execution_count": 59,
     "metadata": {},
     "output_type": "execute_result"
    }
   ],
   "source": [
    "room_info = pd.read_csv(\"rooms_100k.csv\")\n",
    "room_info.head()"
   ]
  },
  {
   "cell_type": "code",
   "execution_count": 70,
   "metadata": {},
   "outputs": [],
   "source": [
    "n_row = room_info.shape[0]\n",
    "\n",
    "col_name = list(json.loads(room_info.data.iloc[0]).keys())\n",
    "stats_col = col_name.copy()\n",
    "\n",
    "room_data_stats  = pd.DataFrame(columns = stats_col)\n",
    "\n",
    "for i in range(n_row):\n",
    "    r_info = json.loads(room_info.data.iloc[i])\n",
    "\n",
    "    if 'outline' in r_info.keys():\n",
    "        r_info['outline'] = str(r_info['outline'])\n",
    "    df = pd.DataFrame(r_info, index = [i])\n",
    "    room_data_stats = room_data_stats.append(df)"
   ]
  },
  {
   "cell_type": "code",
   "execution_count": 67,
   "metadata": {},
   "outputs": [],
   "source": [
    "room_data_stats.to_csv(\"room_data_stats.csv\")"
   ]
  },
  {
   "cell_type": "code",
   "execution_count": 71,
   "metadata": {},
   "outputs": [
    {
     "data": {
      "text/plain": [
       "Index(['name', 'number', 'uuid', 'id', 'program_type', 'area', 'level',\n",
       "       'location', 'outline', 'centroid', 'desk_count', 'physical_desk_count',\n",
       "       'work_units', 'table_count', 'internal_room_count',\n",
       "       'extra_furniture_count', 'soft_seating_count',\n",
       "       'percent_utilizable_area', 'plan_irregularity', 'average_minimum_span',\n",
       "       'has_window', 'room_boundaries'],\n",
       "      dtype='object')"
      ]
     },
     "execution_count": 71,
     "metadata": {},
     "output_type": "execute_result"
    }
   ],
   "source": [
    "room_data_stats.columns"
   ]
  },
  {
   "cell_type": "code",
   "execution_count": 68,
   "metadata": {},
   "outputs": [
    {
     "name": "stdout",
     "output_type": "stream",
     "text": [
      "shape of room_data_stats (10000, 24)\n",
      "shape of room_basic (10000, 3)\n",
      "shape of room_df(merged) (10000, 27)\n"
     ]
    }
   ],
   "source": [
    "# Keep features from original table:\n",
    "#  ---- 'uuid': unique id of floor plan; \n",
    "#  ---- 'property_id': unique id of each building (a property may contain multiple floor plans since multiple-level ); \n",
    "#  ---- '_fivetran_synced': created date at system\n",
    "desired_column = ['uuid', 'floor_id', '_fivetran_synced']\n",
    "room_basic = room_info[desired_column]\n",
    "room_basic = room_basic.iloc[0:10000]\n",
    "# delete 'uuid' in floor_data_stats (?) not clear\n",
    "# floor_data_stats = floor_data_stats.drop(['uuid'], axis=1)\n",
    "\n",
    "# combine two tables to get whole information of floor \n",
    "if room_data_stats.shape[0] == room_basic.shape[0]:\n",
    "    room_df = pd.concat([room_basic, room_data_stats], axis=1, join_axes=[room_basic.index])\n",
    "else:\n",
    "    room_df = pd.concat([room_basic, room_data_stats], axis=1, join_axes=[room_basic.index])\n",
    "    print('warning! You may check your table dimension')\n",
    "print('shape of room_data_stats', room_data_stats.shape)\n",
    "print('shape of room_basic', room_basic.shape) \n",
    "print('shape of room_df(merged)', room_df.shape)\n",
    "\n"
   ]
  },
  {
   "cell_type": "code",
   "execution_count": 69,
   "metadata": {},
   "outputs": [],
   "source": [
    "room_df.to_csv('room_CLEANED.csv')"
   ]
  },
  {
   "cell_type": "code",
   "execution_count": null,
   "metadata": {},
   "outputs": [],
   "source": []
  }
 ],
 "metadata": {
  "kernelspec": {
   "display_name": "Python 3",
   "language": "python",
   "name": "python3"
  },
  "language_info": {
   "codemirror_mode": {
    "name": "ipython",
    "version": 3
   },
   "file_extension": ".py",
   "mimetype": "text/x-python",
   "name": "python",
   "nbconvert_exporter": "python",
   "pygments_lexer": "ipython3",
   "version": "3.7.3"
  }
 },
 "nbformat": 4,
 "nbformat_minor": 2
}
