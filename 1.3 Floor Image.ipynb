{
 "cells": [
  {
   "cell_type": "code",
   "execution_count": 20,
   "metadata": {},
   "outputs": [],
   "source": []
  },
  {
   "cell_type": "code",
   "execution_count": 1,
   "metadata": {},
   "outputs": [],
   "source": [
    "import os\n",
    "\n",
    "RS_HOST = os.environ[\"RS_HOST\"] if \"RS_HOST\" in os.environ else \"redshift-production.weworkers.io\"\n",
    "RS_PORT = int(os.environ[\"RS_PORT\"]) if \"RS_PORT\" in os.environ else 5439\n",
    "RS_DATABASE = os.environ[\"RS_DATABASE\"] if \"RS_DATABASE\" in os.environ else \"analyticdb\"\n",
    "\n",
    "RS_USER = os.environ[\"RS_USERNAME\"] if \"RS_USERNAME\" in os.environ else \"qi.chen2@wework.com\"\n",
    "RS_PASS = os.environ[\"RS_PASSWORD\"] if \"RS_PASSWORD\" in os.environ else \"513846129Cq123!\"\n",
    "\n",
    "RS_URL = os.environ[\"RS_URL\"] if \"RS_URL\" in os.environ else \"redshift://redshift-production.weworkers.io:5439/analyticdb\"\n"
   ]
  },
  {
   "cell_type": "code",
   "execution_count": 2,
   "metadata": {},
   "outputs": [],
   "source": [
    "class FloorMedia:\n",
    "\n",
    "    def __init__(self, uuid, floor_id, url, extension, plan_type):\n",
    "        self.uuid = uuid\n",
    "        self.floor_id = floor_id\n",
    "        self.url = url\n",
    "        self.extension = extension\n",
    "        self.type = plan_type\n"
   ]
  },
  {
   "cell_type": "code",
   "execution_count": null,
   "metadata": {},
   "outputs": [],
   "source": [
    "import psycopg2\n",
    "import requests\n",
    "import numpy as np\n",
    "\n",
    "# from credentials import *\n",
    "\n",
    "connect = psycopg2.connect(dbname=RS_DATABASE, user=RS_USER, password=RS_PASS, host=RS_HOST, port=RS_PORT)\n",
    "cursor = connect.cursor()\n",
    "\n",
    "url = \"https://sg-bs.wework.com/\"\n",
    "\n",
    "cursor.execute('''SELECT * FROM stargate_modules_pg_public.bs_harvest_floor_media;''')\n",
    "\n",
    "raw_data = cursor.fetchall()\n",
    "\n",
    "data = []\n",
    "\n",
    "# number of floor plans you want to sample\n",
    "n_image = len(raw_data)\n",
    "for i in range(n_image):\n",
    "    row = raw_data[i]\n",
    "    floor = FloorMedia(row[0], row[1], row[3], row[5], row[8])\n",
    "    data.append(floor)\n",
    "\n",
    "count = 0\n",
    "for floor in data:\n",
    "    r = requests.get(url + floor.url, stream=True)\n",
    "    if r.status_code == 200:\n",
    "        if floor.extension == \"png\":\n",
    "            with open(\"floor_plan_image/\"+str(floor.floor_id)+\".png\", \"wb\") as f:\n",
    "#                 print(\"Writing image for floor \" + floor.floor_id)\n",
    "                for chunk in r:\n",
    "                    f.write(chunk)\n",
    "    count += 1\n",
    "    if count / 100 == 0:\n",
    "        print(count)\n",
    "\n",
    "\n",
    "cursor.close()\n",
    "connect.close()\n",
    "\n"
   ]
  },
  {
   "cell_type": "code",
   "execution_count": null,
   "metadata": {},
   "outputs": [],
   "source": [
    "5:31  ---> 0\n",
    "5:41  ---> 265"
   ]
  }
 ],
 "metadata": {
  "kernelspec": {
   "display_name": "Python 3",
   "language": "python",
   "name": "python3"
  }
 },
 "nbformat": 4,
 "nbformat_minor": 2
}
