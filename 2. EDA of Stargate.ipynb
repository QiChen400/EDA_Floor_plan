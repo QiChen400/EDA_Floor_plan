{
 "cells": [
  {
   "cell_type": "markdown",
   "metadata": {},
   "source": [
    "# Exploratory data analysis for Stargate"
   ]
  },
  {
   "cell_type": "code",
   "execution_count": 4,
   "metadata": {},
   "outputs": [],
   "source": [
    "import pandas as pd\n",
    "import json\n",
    "import numpy as np\n",
    "import seaborn as sns\n",
    "import matplotlib.pyplot as plt\n",
    "from scipy import stats"
   ]
  },
  {
   "cell_type": "markdown",
   "metadata": {},
   "source": [
    "# 1. floor table"
   ]
  },
  {
   "cell_type": "code",
   "execution_count": 109,
   "metadata": {},
   "outputs": [
    {
     "name": "stderr",
     "output_type": "stream",
     "text": [
      "/anaconda3/lib/python3.7/site-packages/IPython/core/interactiveshell.py:3049: DtypeWarning: Columns (7) have mixed types. Specify dtype option on import or set low_memory=False.\n",
      "  interactivity=interactivity, compiler=compiler, result=result)\n"
     ]
    }
   ],
   "source": [
    "floor = pd.read_csv(\"floor_CLEANED.csv\")"
   ]
  },
  {
   "cell_type": "code",
   "execution_count": 110,
   "metadata": {},
   "outputs": [
    {
     "name": "stdout",
     "output_type": "stream",
     "text": [
      "Index(['uuid', 'property_id', 'harvest_id', 'floor_id', 'stargate_floor_id',\n",
      "       'stargate_property_id', '_fivetran_synced', 'FIVETRAN_ERROR',\n",
      "       'average_office_desk_count', 'desk_count', 'elevation', 'floor_id.1',\n",
      "       'floor_to_bottom_of_beam', 'floor_to_floor', 'floorplan_image_extents',\n",
      "       'geometric_level', 'gsf', 'name', 'nysf', 'outline', 'rsf',\n",
      "       'soft_seating_count', 'stage', 'stargate_floor_id.1', 'usf',\n",
      "       'usf_per_desk', 'uuid_from_data'],\n",
      "      dtype='object')\n",
      "(40276, 27)\n"
     ]
    },
    {
     "data": {
      "text/html": [
       "<div>\n",
       "<style scoped>\n",
       "    .dataframe tbody tr th:only-of-type {\n",
       "        vertical-align: middle;\n",
       "    }\n",
       "\n",
       "    .dataframe tbody tr th {\n",
       "        vertical-align: top;\n",
       "    }\n",
       "\n",
       "    .dataframe thead th {\n",
       "        text-align: right;\n",
       "    }\n",
       "</style>\n",
       "<table border=\"1\" class=\"dataframe\">\n",
       "  <thead>\n",
       "    <tr style=\"text-align: right;\">\n",
       "      <th></th>\n",
       "      <th>uuid</th>\n",
       "      <th>property_id</th>\n",
       "      <th>harvest_id</th>\n",
       "      <th>floor_id</th>\n",
       "      <th>stargate_floor_id</th>\n",
       "      <th>stargate_property_id</th>\n",
       "      <th>_fivetran_synced</th>\n",
       "      <th>FIVETRAN_ERROR</th>\n",
       "      <th>average_office_desk_count</th>\n",
       "      <th>desk_count</th>\n",
       "      <th>...</th>\n",
       "      <th>name</th>\n",
       "      <th>nysf</th>\n",
       "      <th>outline</th>\n",
       "      <th>rsf</th>\n",
       "      <th>soft_seating_count</th>\n",
       "      <th>stage</th>\n",
       "      <th>stargate_floor_id.1</th>\n",
       "      <th>usf</th>\n",
       "      <th>usf_per_desk</th>\n",
       "      <th>uuid_from_data</th>\n",
       "    </tr>\n",
       "  </thead>\n",
       "  <tbody>\n",
       "    <tr>\n",
       "      <th>0</th>\n",
       "      <td>d25b0d13-64f0-44f8-a2e6-7469279c9fed</td>\n",
       "      <td>a95ce973-948b-11e7-9d13-0642b0acf810</td>\n",
       "      <td>27fdf1f1-84ef-4418-a08a-b0cbff9f7e27</td>\n",
       "      <td>6e4ed9f8-949a-11e7-9d13-0642b0acf810</td>\n",
       "      <td>NaN</td>\n",
       "      <td>NaN</td>\n",
       "      <td>2018-05-13 01:07:50.052</td>\n",
       "      <td>NaN</td>\n",
       "      <td>NaN</td>\n",
       "      <td>214.0</td>\n",
       "      <td>...</td>\n",
       "      <td>1ST FLOOR</td>\n",
       "      <td>NaN</td>\n",
       "      <td>[['(201.643957631986, 67.0003857598667, 12)', ...</td>\n",
       "      <td>NaN</td>\n",
       "      <td>NaN</td>\n",
       "      <td>Open</td>\n",
       "      <td>NaN</td>\n",
       "      <td>11300.578816</td>\n",
       "      <td>NaN</td>\n",
       "      <td>e49c10a5-2f67-4b01-ad19-ede3da84c26e-0071368b</td>\n",
       "    </tr>\n",
       "    <tr>\n",
       "      <th>1</th>\n",
       "      <td>40e475dc-f664-4723-afaa-f8bbe3fa9326</td>\n",
       "      <td>f7b141a0-8e11-0132-226b-1efb49eb59b4</td>\n",
       "      <td>b5d1aa7b-aae7-4f78-9e8c-014c21373b31</td>\n",
       "      <td>dea128fa-0e12-11e6-9312-063c4950d72f</td>\n",
       "      <td>4646.0</td>\n",
       "      <td>3521.0</td>\n",
       "      <td>2018-05-13 01:07:49.573</td>\n",
       "      <td>NaN</td>\n",
       "      <td>NaN</td>\n",
       "      <td>470.0</td>\n",
       "      <td>...</td>\n",
       "      <td>29TH FLOOR</td>\n",
       "      <td>NaN</td>\n",
       "      <td>NaN</td>\n",
       "      <td>NaN</td>\n",
       "      <td>NaN</td>\n",
       "      <td>Open</td>\n",
       "      <td>4646.0</td>\n",
       "      <td>27531.000000</td>\n",
       "      <td>NaN</td>\n",
       "      <td>3163c5f6-ceae-40a9-a1e6-17ca672d37f8-005445ea</td>\n",
       "    </tr>\n",
       "    <tr>\n",
       "      <th>2</th>\n",
       "      <td>03a8d852-cfca-4777-bb8b-1becefb90e03</td>\n",
       "      <td>5e8d8f30-aef7-0132-a603-3ecb6520abc5</td>\n",
       "      <td>f3bd0cc7-b868-4275-b384-15b2bc5240e2</td>\n",
       "      <td>dea13e3f-0e12-11e6-9312-063c4950d72f</td>\n",
       "      <td>4842.0</td>\n",
       "      <td>4837.0</td>\n",
       "      <td>2018-05-13 01:07:49.376</td>\n",
       "      <td>NaN</td>\n",
       "      <td>NaN</td>\n",
       "      <td>32.0</td>\n",
       "      <td>...</td>\n",
       "      <td>1ST FLOOR</td>\n",
       "      <td>NaN</td>\n",
       "      <td>NaN</td>\n",
       "      <td>NaN</td>\n",
       "      <td>NaN</td>\n",
       "      <td>Open</td>\n",
       "      <td>4842.0</td>\n",
       "      <td>4628.060000</td>\n",
       "      <td>NaN</td>\n",
       "      <td>650a0288-059c-4a9a-ba4e-52a71cfb3bcb-00671d80</td>\n",
       "    </tr>\n",
       "    <tr>\n",
       "      <th>3</th>\n",
       "      <td>940f770e-ef10-4a02-9e9f-62d0781a1b98</td>\n",
       "      <td>55c2ae8d-1e01-11e6-9312-063c4950d72f</td>\n",
       "      <td>3256f5ac-ed6f-43c6-8346-c7ac11bbc58b</td>\n",
       "      <td>b98d53e0-239c-11e6-9312-063c4950d72f</td>\n",
       "      <td>8044.0</td>\n",
       "      <td>7426.0</td>\n",
       "      <td>2018-05-13 01:07:49.853</td>\n",
       "      <td>NaN</td>\n",
       "      <td>NaN</td>\n",
       "      <td>639.0</td>\n",
       "      <td>...</td>\n",
       "      <td>4TH FLOOR</td>\n",
       "      <td>NaN</td>\n",
       "      <td>NaN</td>\n",
       "      <td>NaN</td>\n",
       "      <td>NaN</td>\n",
       "      <td>Test Fit</td>\n",
       "      <td>8044.0</td>\n",
       "      <td>29229.000000</td>\n",
       "      <td>NaN</td>\n",
       "      <td>f62afe97-1e64-4854-b51f-7fed19dbc8df-00551d13</td>\n",
       "    </tr>\n",
       "    <tr>\n",
       "      <th>4</th>\n",
       "      <td>f229ad66-95cf-4f4f-af6a-fbea0744c7a7</td>\n",
       "      <td>27b184e0-45d9-11e7-a99c-063c4950d72f</td>\n",
       "      <td>0b1abac3-acce-4d7f-b951-f27604797ecb</td>\n",
       "      <td>d7416af3-6785-11e7-a99c-063c4950d72f</td>\n",
       "      <td>11072.0</td>\n",
       "      <td>NaN</td>\n",
       "      <td>2018-05-13 01:07:50.143</td>\n",
       "      <td>NaN</td>\n",
       "      <td>NaN</td>\n",
       "      <td>383.0</td>\n",
       "      <td>...</td>\n",
       "      <td>9TH FLOOR</td>\n",
       "      <td>NaN</td>\n",
       "      <td>None</td>\n",
       "      <td>NaN</td>\n",
       "      <td>NaN</td>\n",
       "      <td>Pre-Design</td>\n",
       "      <td>11072.0</td>\n",
       "      <td>18860.000000</td>\n",
       "      <td>NaN</td>\n",
       "      <td>dd5423c7-a5b6-4bdd-b963-af6c6f90864d-007a0593</td>\n",
       "    </tr>\n",
       "  </tbody>\n",
       "</table>\n",
       "<p>5 rows × 27 columns</p>\n",
       "</div>"
      ],
      "text/plain": [
       "                                   uuid                           property_id  \\\n",
       "0  d25b0d13-64f0-44f8-a2e6-7469279c9fed  a95ce973-948b-11e7-9d13-0642b0acf810   \n",
       "1  40e475dc-f664-4723-afaa-f8bbe3fa9326  f7b141a0-8e11-0132-226b-1efb49eb59b4   \n",
       "2  03a8d852-cfca-4777-bb8b-1becefb90e03  5e8d8f30-aef7-0132-a603-3ecb6520abc5   \n",
       "3  940f770e-ef10-4a02-9e9f-62d0781a1b98  55c2ae8d-1e01-11e6-9312-063c4950d72f   \n",
       "4  f229ad66-95cf-4f4f-af6a-fbea0744c7a7  27b184e0-45d9-11e7-a99c-063c4950d72f   \n",
       "\n",
       "                             harvest_id                              floor_id  \\\n",
       "0  27fdf1f1-84ef-4418-a08a-b0cbff9f7e27  6e4ed9f8-949a-11e7-9d13-0642b0acf810   \n",
       "1  b5d1aa7b-aae7-4f78-9e8c-014c21373b31  dea128fa-0e12-11e6-9312-063c4950d72f   \n",
       "2  f3bd0cc7-b868-4275-b384-15b2bc5240e2  dea13e3f-0e12-11e6-9312-063c4950d72f   \n",
       "3  3256f5ac-ed6f-43c6-8346-c7ac11bbc58b  b98d53e0-239c-11e6-9312-063c4950d72f   \n",
       "4  0b1abac3-acce-4d7f-b951-f27604797ecb  d7416af3-6785-11e7-a99c-063c4950d72f   \n",
       "\n",
       "   stargate_floor_id  stargate_property_id         _fivetran_synced  \\\n",
       "0                NaN                   NaN  2018-05-13 01:07:50.052   \n",
       "1             4646.0                3521.0  2018-05-13 01:07:49.573   \n",
       "2             4842.0                4837.0  2018-05-13 01:07:49.376   \n",
       "3             8044.0                7426.0  2018-05-13 01:07:49.853   \n",
       "4            11072.0                   NaN  2018-05-13 01:07:50.143   \n",
       "\n",
       "  FIVETRAN_ERROR  average_office_desk_count  desk_count  ...        name nysf  \\\n",
       "0            NaN                        NaN       214.0  ...   1ST FLOOR  NaN   \n",
       "1            NaN                        NaN       470.0  ...  29TH FLOOR  NaN   \n",
       "2            NaN                        NaN        32.0  ...   1ST FLOOR  NaN   \n",
       "3            NaN                        NaN       639.0  ...   4TH FLOOR  NaN   \n",
       "4            NaN                        NaN       383.0  ...   9TH FLOOR  NaN   \n",
       "\n",
       "                                             outline  rsf  soft_seating_count  \\\n",
       "0  [['(201.643957631986, 67.0003857598667, 12)', ...  NaN                 NaN   \n",
       "1                                                NaN  NaN                 NaN   \n",
       "2                                                NaN  NaN                 NaN   \n",
       "3                                                NaN  NaN                 NaN   \n",
       "4                                               None  NaN                 NaN   \n",
       "\n",
       "        stage  stargate_floor_id.1           usf  usf_per_desk  \\\n",
       "0        Open                  NaN  11300.578816           NaN   \n",
       "1        Open               4646.0  27531.000000           NaN   \n",
       "2        Open               4842.0   4628.060000           NaN   \n",
       "3    Test Fit               8044.0  29229.000000           NaN   \n",
       "4  Pre-Design              11072.0  18860.000000           NaN   \n",
       "\n",
       "                                  uuid_from_data  \n",
       "0  e49c10a5-2f67-4b01-ad19-ede3da84c26e-0071368b  \n",
       "1  3163c5f6-ceae-40a9-a1e6-17ca672d37f8-005445ea  \n",
       "2  650a0288-059c-4a9a-ba4e-52a71cfb3bcb-00671d80  \n",
       "3  f62afe97-1e64-4854-b51f-7fed19dbc8df-00551d13  \n",
       "4  dd5423c7-a5b6-4bdd-b963-af6c6f90864d-007a0593  \n",
       "\n",
       "[5 rows x 27 columns]"
      ]
     },
     "execution_count": 110,
     "metadata": {},
     "output_type": "execute_result"
    }
   ],
   "source": [
    "print(floor.columns)\n",
    "print(floor.shape)\n",
    "floor.head()"
   ]
  },
  {
   "cell_type": "code",
   "execution_count": 115,
   "metadata": {},
   "outputs": [
    {
     "name": "stdout",
     "output_type": "stream",
     "text": [
      "# of whole floor plan 40276\n",
      "# of Single-level project 7556\n",
      "# of Multi-level project 7225\n"
     ]
    },
    {
     "data": {
      "image/png": "[encoded data removed]",
      "text/plain": [
       "<Figure size 432x288 with 1 Axes>"
      ]
     },
     "metadata": {},
     "output_type": "display_data"
    },
    {
     "data": {
      "image/png": "[encoded data removed]",
      "text/plain": [
       "<Figure size 432x288 with 1 Axes>"
      ]
     },
     "metadata": {
      "needs_background": "light"
     },
     "output_type": "display_data"
    },
    {
     "data": {
      "text/plain": [
       "<Figure size 432x288 with 0 Axes>"
      ]
     },
     "metadata": {},
     "output_type": "display_data"
    }
   ],
   "source": [
    "# Check Multi-level vs Single-level\n",
    "print('# of whole floor plan', floor.shape[0])\n",
    "print('# of Single-level project', sum(floor.harvest_id.value_counts() == 1))\n",
    "print('# of Multi-level project', sum(floor.harvest_id.value_counts() != 1))\n",
    "\n",
    "# Data to plot\n",
    "labels = ['Single-level', 'Multi-level']\n",
    "sizes = [sum(floor.harvest_id.value_counts() == 1), sum(floor.harvest_id.value_counts() != 1)]\n",
    "colors = ['lightskyblue', 'yellowgreen']\n",
    "explode = (0, 0)  # explode 1st slice\n",
    "\n",
    "# Pie Chart\n",
    "plt.pie(sizes, explode=explode, labels=labels, colors=colors,\n",
    "autopct='%1.1f%%', shadow=True, startangle=140)\n",
    "\n",
    "plt.axis('equal')\n",
    "plt.show()\n",
    "\n",
    "# Histgram  \n",
    "a = list(floor.harvest_id.value_counts())\n",
    "plt.hist(a, bins='auto')  # arguments are passed to np.histogram\n",
    "plt.title(\"Distribution of number of levels of Each property\")\n",
    "plt.show()\n",
    "plt.savefig('books_read.png')"
   ]
  },
  {
   "cell_type": "code",
   "execution_count": 117,
   "metadata": {},
   "outputs": [
    {
     "data": {
      "text/plain": [
       "Design              12976\n",
       "Open                10963\n",
       "Pre-Construction     4906\n",
       "Construction         4804\n",
       "Testfit              3491\n",
       "Pre-Design           3048\n",
       "Test Fit               33\n",
       "Opening                12\n",
       "Name: stage, dtype: int64"
      ]
     },
     "execution_count": 117,
     "metadata": {},
     "output_type": "execute_result"
    }
   ],
   "source": [
    "# Check stage\n",
    "floor.stage.value_counts()"
   ]
  },
  {
   "cell_type": "code",
   "execution_count": 118,
   "metadata": {},
   "outputs": [
    {
     "name": "stdout",
     "output_type": "stream",
     "text": [
      "there are 2258 floors plans that have no usf\n",
      "there are 5099 floors plans that have no desk\n"
     ]
    }
   ],
   "source": [
    "# Check usf, desk_count, and usf_per_desk\n",
    "invalid_usf = sum(floor.usf.dropna() == 0) + floor.usf.isna().sum()\n",
    "print('there are', invalid_usf, 'floors plans that have no usf')\n",
    "\n",
    "invalid_desk = sum(floor.desk_count.dropna() == 0) + floor.desk_count.isna().sum()\n",
    "print('there are', invalid_desk, 'floors plans that have no desk')\n"
   ]
  },
  {
   "cell_type": "code",
   "execution_count": 136,
   "metadata": {},
   "outputs": [],
   "source": [
    "usf_desk_df = floor[floor['stage'] == 'Open']\n",
    "usf_desk_df = usf_desk_df[['usf', 'desk_count']]\n",
    "usf_desk_df = usf_desk_df.dropna()\n",
    "usf_desk_df = usf_desk_df[usf_desk_df.desk_count != 0]\n",
    "\n",
    "usf_desk_df['usf_per_desk'] = usf_desk_df.usf/usf_desk_df.desk_count"
   ]
  },
  {
   "cell_type": "code",
   "execution_count": 138,
   "metadata": {},
   "outputs": [
    {
     "data": {
      "text/plain": [
       "count    10472.000000\n",
       "mean     12237.267891\n",
       "std       8242.603106\n",
       "min          0.000000\n",
       "25%       6567.000000\n",
       "50%      10728.802552\n",
       "75%      16118.000000\n",
       "max      64790.000000\n",
       "Name: distribution of usf, dtype: float64"
      ]
     },
     "execution_count": 138,
     "metadata": {},
     "output_type": "execute_result"
    },
    {
     "data": {
      "image/png": "[encoded data removed]",
      "text/plain": [
       "<Figure size 432x288 with 1 Axes>"
      ]
     },
     "metadata": {
      "needs_background": "light"
     },
     "output_type": "display_data"
    }
   ],
   "source": [
    "usf_desk_df.columns = ['distribution of usf', 'distribution of desk_count', 'distribution of usf_per_desk']\n",
    "dis1 = sns.distplot(usf_desk_df['distribution of usf'], hist=False, rug=True)\n",
    "dis1.set_xlim(0, 50000)\n",
    "usf_desk_df['distribution of usf'].describe()"
   ]
  },
  {
   "cell_type": "code",
   "execution_count": 139,
   "metadata": {},
   "outputs": [
    {
     "data": {
      "text/plain": [
       "count    10472.000000\n",
       "mean       230.724312\n",
       "std        157.200509\n",
       "min          2.000000\n",
       "25%        116.000000\n",
       "50%        193.000000\n",
       "75%        305.000000\n",
       "max       1775.000000\n",
       "Name: distribution of desk_count, dtype: float64"
      ]
     },
     "execution_count": 139,
     "metadata": {},
     "output_type": "execute_result"
    },
    {
     "data": {
      "image/png": "[encoded data removed]",
      "text/plain": [
       "<Figure size 432x288 with 1 Axes>"
      ]
     },
     "metadata": {
      "needs_background": "light"
     },
     "output_type": "display_data"
    }
   ],
   "source": [
    "dis2 = sns.distplot(usf_desk_df['distribution of desk_count'], hist=False, rug=True)\n",
    "dis2.set_xlim(0, 1250)\n",
    "usf_desk_df['distribution of desk_count'].describe()"
   ]
  },
  {
   "cell_type": "code",
   "execution_count": 140,
   "metadata": {},
   "outputs": [
    {
     "data": {
      "text/plain": [
       "count    10472.000000\n",
       "mean        60.292630\n",
       "std         99.364230\n",
       "min          0.000000\n",
       "25%         49.193779\n",
       "50%         54.229299\n",
       "75%         61.521739\n",
       "max       7700.000000\n",
       "Name: distribution of usf_per_desk, dtype: float64"
      ]
     },
     "execution_count": 140,
     "metadata": {},
     "output_type": "execute_result"
    },
    {
     "data": {
      "image/png": "[encoded data removed]",
      "text/plain": [
       "<Figure size 432x288 with 1 Axes>"
      ]
     },
     "metadata": {
      "needs_background": "light"
     },
     "output_type": "display_data"
    }
   ],
   "source": [
    "dis3 = sns.distplot(usf_desk_df['distribution of usf_per_desk'], hist=False, rug=True)\n",
    "dis3.set_xlim(0, 1000)\n",
    "usf_desk_df['distribution of usf_per_desk'].describe()"
   ]
  },
  {
   "cell_type": "code",
   "execution_count": 143,
   "metadata": {},
   "outputs": [
    {
     "data": {
      "image/png": "[encoded data removed]",
      "text/plain": [
       "<Figure size 432x288 with 1 Axes>"
      ]
     },
     "metadata": {},
     "output_type": "display_data"
    }
   ],
   "source": [
    "# A simple model show relationship between usf and num of desk\n",
    "# This might help us determine how many desks we need to achieve given a new floor]\n",
    "\n",
    "import numpy as np\n",
    "from sklearn.linear_model import LinearRegression\n",
    "\n",
    "x = np.array(usf_desk_df['distribution of usf']).reshape(-1, 1)\n",
    "y = np.array(usf_desk_df['distribution of desk_count'])\n",
    "\n",
    "model = LinearRegression().fit(x, y)\n",
    "\n",
    "# performance r_score\n",
    "r_sq = model.score(x, y)\n",
    "y_pred = model.predict(x)\n",
    "\n",
    "# Plot outputs\n",
    "plt.scatter(x, y,  color='black')\n",
    "plt.plot(x, y_pred, color='blue', linewidth=3)\n",
    "plt.xlabel('usf')\n",
    "plt.ylabel('# of desk')\n",
    "\n",
    "\n",
    "plt.xticks(())\n",
    "plt.yticks(())\n",
    "\n",
    "plt.show()"
   ]
  },
  {
   "cell_type": "code",
   "execution_count": 38,
   "metadata": {},
   "outputs": [
    {
     "data": {
      "text/plain": [
       "0.000000     30650\n",
       "9.500000        29\n",
       "10.583333       21\n",
       "10.666667       10\n",
       "11.833333       10\n",
       "13.779528        9\n",
       "10.333333        8\n",
       "11.059896        8\n",
       "10.333333        6\n",
       "14.666667        6\n",
       "11.059896        4\n",
       "9.916667         4\n",
       "14.666667        4\n",
       "8.833333         4\n",
       "11.500000        3\n",
       "12.083333        3\n",
       "12.500000        2\n",
       "8.604167         1\n",
       "15.333333        1\n",
       "Name: floor_to_bottom_of_beam, dtype: int64"
      ]
     },
     "execution_count": 38,
     "metadata": {},
     "output_type": "execute_result"
    }
   ],
   "source": [
    "# Check some other feature \n",
    "floor.floor_to_bottom_of_beam.dropna().value_counts()"
   ]
  },
  {
   "cell_type": "code",
   "execution_count": 113,
   "metadata": {},
   "outputs": [],
   "source": [
    "# Check shape!!!\n",
    "\n",
    "# how much are irregular, how much are ploygon, etc\n",
    "# "
   ]
  },
  {
   "cell_type": "code",
   "execution_count": null,
   "metadata": {},
   "outputs": [],
   "source": []
  },
  {
   "cell_type": "code",
   "execution_count": null,
   "metadata": {},
   "outputs": [],
   "source": []
  },
  {
   "cell_type": "markdown",
   "metadata": {},
   "source": [
    "# 2. room table"
   ]
  },
  {
   "cell_type": "code",
   "execution_count": 5,
   "metadata": {},
   "outputs": [],
   "source": [
    "room_df = pd.read_csv('room_CLEANED.csv')"
   ]
  },
  {
   "cell_type": "code",
   "execution_count": 6,
   "metadata": {},
   "outputs": [
    {
     "name": "stdout",
     "output_type": "stream",
     "text": [
      "Index(['Unnamed: 0', 'uuid', 'floor_id', '_fivetran_synced', 'area',\n",
      "       'average_minimum_span', 'centroid', 'desk_count',\n",
      "       'executive_office_count', 'extra_furniture_count', 'has_window', 'id',\n",
      "       'internal_room_count', 'level', 'location', 'name', 'number', 'outline',\n",
      "       'percent_utilizable_area', 'physical_desk_count', 'plan_irregularity',\n",
      "       'program_type', 'room_boundaries', 'soft_seating_count', 'table_count',\n",
      "       'transparency_ratio', 'uuid.1', 'work_units'],\n",
      "      dtype='object')\n",
      "(10000, 28)\n"
     ]
    },
    {
     "data": {
      "text/html": [
       "<div>\n",
       "<style scoped>\n",
       "    .dataframe tbody tr th:only-of-type {\n",
       "        vertical-align: middle;\n",
       "    }\n",
       "\n",
       "    .dataframe tbody tr th {\n",
       "        vertical-align: top;\n",
       "    }\n",
       "\n",
       "    .dataframe thead th {\n",
       "        text-align: right;\n",
       "    }\n",
       "</style>\n",
       "<table border=\"1\" class=\"dataframe\">\n",
       "  <thead>\n",
       "    <tr style=\"text-align: right;\">\n",
       "      <th></th>\n",
       "      <th>Unnamed: 0</th>\n",
       "      <th>uuid</th>\n",
       "      <th>floor_id</th>\n",
       "      <th>_fivetran_synced</th>\n",
       "      <th>area</th>\n",
       "      <th>average_minimum_span</th>\n",
       "      <th>centroid</th>\n",
       "      <th>desk_count</th>\n",
       "      <th>executive_office_count</th>\n",
       "      <th>extra_furniture_count</th>\n",
       "      <th>...</th>\n",
       "      <th>percent_utilizable_area</th>\n",
       "      <th>physical_desk_count</th>\n",
       "      <th>plan_irregularity</th>\n",
       "      <th>program_type</th>\n",
       "      <th>room_boundaries</th>\n",
       "      <th>soft_seating_count</th>\n",
       "      <th>table_count</th>\n",
       "      <th>transparency_ratio</th>\n",
       "      <th>uuid.1</th>\n",
       "      <th>work_units</th>\n",
       "    </tr>\n",
       "  </thead>\n",
       "  <tbody>\n",
       "    <tr>\n",
       "      <th>0</th>\n",
       "      <td>0</td>\n",
       "      <td>c3908d85-7f57-45ed-b2c8-d2ba2c25037b</td>\n",
       "      <td>00018f5b-75e0-4f27-a01a-576fd6b9050a</td>\n",
       "      <td>2018-11-13 05:13:27.541</td>\n",
       "      <td>561.338446</td>\n",
       "      <td>NaN</td>\n",
       "      <td>(75.0326833527142, 83.0380577427822, 28)</td>\n",
       "      <td>18.0</td>\n",
       "      <td>NaN</td>\n",
       "      <td>NaN</td>\n",
       "      <td>...</td>\n",
       "      <td>NaN</td>\n",
       "      <td>18.0</td>\n",
       "      <td>NaN</td>\n",
       "      <td>WORK</td>\n",
       "      <td>NaN</td>\n",
       "      <td>0.0</td>\n",
       "      <td>NaN</td>\n",
       "      <td>NaN</td>\n",
       "      <td>d21dce25-60f4-4271-b214-85c109e9a99a-008e1cde</td>\n",
       "      <td>18.0</td>\n",
       "    </tr>\n",
       "    <tr>\n",
       "      <th>1</th>\n",
       "      <td>1</td>\n",
       "      <td>119e406f-ff59-4019-ad88-f14376e93d57</td>\n",
       "      <td>00018f5b-75e0-4f27-a01a-576fd6b9050a</td>\n",
       "      <td>2018-11-13 05:13:27.541</td>\n",
       "      <td>521.356456</td>\n",
       "      <td>NaN</td>\n",
       "      <td>(108.251187289722, 39.1322180765581, 28)</td>\n",
       "      <td>19.0</td>\n",
       "      <td>NaN</td>\n",
       "      <td>NaN</td>\n",
       "      <td>...</td>\n",
       "      <td>NaN</td>\n",
       "      <td>19.0</td>\n",
       "      <td>NaN</td>\n",
       "      <td>WORK</td>\n",
       "      <td>NaN</td>\n",
       "      <td>0.0</td>\n",
       "      <td>NaN</td>\n",
       "      <td>NaN</td>\n",
       "      <td>d21dce25-60f4-4271-b214-85c109e9a99a-008e1cd2</td>\n",
       "      <td>19.0</td>\n",
       "    </tr>\n",
       "    <tr>\n",
       "      <th>2</th>\n",
       "      <td>2</td>\n",
       "      <td>a9064324-9c09-426e-998f-bb066aead2e6</td>\n",
       "      <td>00018f5b-75e0-4f27-a01a-576fd6b9050a</td>\n",
       "      <td>2018-11-13 05:13:27.541</td>\n",
       "      <td>552.086156</td>\n",
       "      <td>NaN</td>\n",
       "      <td>(53.4296649800107, 15.2130565066544, 28)</td>\n",
       "      <td>24.0</td>\n",
       "      <td>NaN</td>\n",
       "      <td>NaN</td>\n",
       "      <td>...</td>\n",
       "      <td>NaN</td>\n",
       "      <td>24.0</td>\n",
       "      <td>NaN</td>\n",
       "      <td>WORK</td>\n",
       "      <td>NaN</td>\n",
       "      <td>0.0</td>\n",
       "      <td>NaN</td>\n",
       "      <td>NaN</td>\n",
       "      <td>d21dce25-60f4-4271-b214-85c109e9a99a-008e1cd0</td>\n",
       "      <td>24.0</td>\n",
       "    </tr>\n",
       "    <tr>\n",
       "      <th>3</th>\n",
       "      <td>3</td>\n",
       "      <td>37801461-6d16-4f21-bc72-f1183ba67dd8</td>\n",
       "      <td>00018f5b-75e0-4f27-a01a-576fd6b9050a</td>\n",
       "      <td>2018-11-13 05:13:27.541</td>\n",
       "      <td>919.675707</td>\n",
       "      <td>NaN</td>\n",
       "      <td>(104.675038224688, 15.2559057406001, 28)</td>\n",
       "      <td>31.0</td>\n",
       "      <td>NaN</td>\n",
       "      <td>NaN</td>\n",
       "      <td>...</td>\n",
       "      <td>NaN</td>\n",
       "      <td>31.0</td>\n",
       "      <td>NaN</td>\n",
       "      <td>WORK</td>\n",
       "      <td>NaN</td>\n",
       "      <td>0.0</td>\n",
       "      <td>NaN</td>\n",
       "      <td>NaN</td>\n",
       "      <td>d21dce25-60f4-4271-b214-85c109e9a99a-008e1cec</td>\n",
       "      <td>31.0</td>\n",
       "    </tr>\n",
       "    <tr>\n",
       "      <th>4</th>\n",
       "      <td>4</td>\n",
       "      <td>45bc8773-69d1-49a2-8f9a-662c29265fe7</td>\n",
       "      <td>00018f5b-75e0-4f27-a01a-576fd6b9050a</td>\n",
       "      <td>2018-11-13 05:13:27.541</td>\n",
       "      <td>280.756484</td>\n",
       "      <td>NaN</td>\n",
       "      <td>(71.1409510692495, 19.4484300940098, 28)</td>\n",
       "      <td>0.0</td>\n",
       "      <td>NaN</td>\n",
       "      <td>NaN</td>\n",
       "      <td>...</td>\n",
       "      <td>NaN</td>\n",
       "      <td>0.0</td>\n",
       "      <td>NaN</td>\n",
       "      <td>MEET</td>\n",
       "      <td>NaN</td>\n",
       "      <td>0.0</td>\n",
       "      <td>NaN</td>\n",
       "      <td>NaN</td>\n",
       "      <td>d21dce25-60f4-4271-b214-85c109e9a99a-008e1cea</td>\n",
       "      <td>0.0</td>\n",
       "    </tr>\n",
       "  </tbody>\n",
       "</table>\n",
       "<p>5 rows × 28 columns</p>\n",
       "</div>"
      ],
      "text/plain": [
       "   Unnamed: 0                                  uuid  \\\n",
       "0           0  c3908d85-7f57-45ed-b2c8-d2ba2c25037b   \n",
       "1           1  119e406f-ff59-4019-ad88-f14376e93d57   \n",
       "2           2  a9064324-9c09-426e-998f-bb066aead2e6   \n",
       "3           3  37801461-6d16-4f21-bc72-f1183ba67dd8   \n",
       "4           4  45bc8773-69d1-49a2-8f9a-662c29265fe7   \n",
       "\n",
       "                               floor_id         _fivetran_synced        area  \\\n",
       "0  00018f5b-75e0-4f27-a01a-576fd6b9050a  2018-11-13 05:13:27.541  561.338446   \n",
       "1  00018f5b-75e0-4f27-a01a-576fd6b9050a  2018-11-13 05:13:27.541  521.356456   \n",
       "2  00018f5b-75e0-4f27-a01a-576fd6b9050a  2018-11-13 05:13:27.541  552.086156   \n",
       "3  00018f5b-75e0-4f27-a01a-576fd6b9050a  2018-11-13 05:13:27.541  919.675707   \n",
       "4  00018f5b-75e0-4f27-a01a-576fd6b9050a  2018-11-13 05:13:27.541  280.756484   \n",
       "\n",
       "   average_minimum_span                                  centroid  desk_count  \\\n",
       "0                   NaN  (75.0326833527142, 83.0380577427822, 28)        18.0   \n",
       "1                   NaN  (108.251187289722, 39.1322180765581, 28)        19.0   \n",
       "2                   NaN  (53.4296649800107, 15.2130565066544, 28)        24.0   \n",
       "3                   NaN  (104.675038224688, 15.2559057406001, 28)        31.0   \n",
       "4                   NaN  (71.1409510692495, 19.4484300940098, 28)         0.0   \n",
       "\n",
       "   executive_office_count  extra_furniture_count  ...  \\\n",
       "0                     NaN                    NaN  ...   \n",
       "1                     NaN                    NaN  ...   \n",
       "2                     NaN                    NaN  ...   \n",
       "3                     NaN                    NaN  ...   \n",
       "4                     NaN                    NaN  ...   \n",
       "\n",
       "   percent_utilizable_area  physical_desk_count  plan_irregularity  \\\n",
       "0                      NaN                 18.0                NaN   \n",
       "1                      NaN                 19.0                NaN   \n",
       "2                      NaN                 24.0                NaN   \n",
       "3                      NaN                 31.0                NaN   \n",
       "4                      NaN                  0.0                NaN   \n",
       "\n",
       "  program_type room_boundaries soft_seating_count table_count  \\\n",
       "0         WORK             NaN                0.0         NaN   \n",
       "1         WORK             NaN                0.0         NaN   \n",
       "2         WORK             NaN                0.0         NaN   \n",
       "3         WORK             NaN                0.0         NaN   \n",
       "4         MEET             NaN                0.0         NaN   \n",
       "\n",
       "  transparency_ratio                                         uuid.1  \\\n",
       "0                NaN  d21dce25-60f4-4271-b214-85c109e9a99a-008e1cde   \n",
       "1                NaN  d21dce25-60f4-4271-b214-85c109e9a99a-008e1cd2   \n",
       "2                NaN  d21dce25-60f4-4271-b214-85c109e9a99a-008e1cd0   \n",
       "3                NaN  d21dce25-60f4-4271-b214-85c109e9a99a-008e1cec   \n",
       "4                NaN  d21dce25-60f4-4271-b214-85c109e9a99a-008e1cea   \n",
       "\n",
       "   work_units  \n",
       "0        18.0  \n",
       "1        19.0  \n",
       "2        24.0  \n",
       "3        31.0  \n",
       "4         0.0  \n",
       "\n",
       "[5 rows x 28 columns]"
      ]
     },
     "execution_count": 6,
     "metadata": {},
     "output_type": "execute_result"
    }
   ],
   "source": [
    "print(room_df.columns)\n",
    "print(room_df.shape)\n",
    "room_df.head()"
   ]
  },
  {
   "cell_type": "code",
   "execution_count": 7,
   "metadata": {},
   "outputs": [
    {
     "data": {
      "text/plain": [
       "WORK              5033\n",
       "MEET              1293\n",
       "WE                1056\n",
       "OPERATE            859\n",
       "CIRCULATE          673\n",
       "WASH               660\n",
       "SERVE              306\n",
       "EAT & DRINK         45\n",
       "INFRASTRUCTURE      41\n",
       "We                   7\n",
       "THRIVE               7\n",
       "Meet                 4\n",
       "Circulate            3\n",
       "Work                 3\n",
       "PLAY                 2\n",
       "Operate              2\n",
       "Wash                 2\n",
       "Name: program_type, dtype: int64"
      ]
     },
     "execution_count": 7,
     "metadata": {},
     "output_type": "execute_result"
    }
   ],
   "source": [
    "# \"Work\" - Offices\n",
    "# \"Meet\" - Conference Rooms\n",
    "# \"We\" - Lounge space + Phone Booths + Pantry / other shared amenities \n",
    "# \"Operate\" - back of house functions like IT closets, janitorial closets\n",
    "# \"Circulate\" - hallways between spaces of other types\n",
    "\n",
    "room_df.program_type.value_counts()"
   ]
  },
  {
   "cell_type": "code",
   "execution_count": 33,
   "metadata": {},
   "outputs": [
    {
     "data": {
      "text/plain": [
       "WORK              5036\n",
       "MEET              1297\n",
       "WE                1063\n",
       "OPERATE            861\n",
       "CIRCULATE          676\n",
       "WASH               662\n",
       "SERVE              306\n",
       "EAT & DRINK         45\n",
       "INFRASTRUCTURE      41\n",
       "THRIVE               7\n",
       "PLAY                 2\n",
       "Name: program_type, dtype: int64"
      ]
     },
     "execution_count": 33,
     "metadata": {},
     "output_type": "execute_result"
    }
   ],
   "source": [
    "room_df.loc[room_df.program_type == 'Work', 'program_type'] = 'WORK'\n",
    "room_df.loc[room_df.program_type == 'Meet', 'program_type'] = 'MEET'\n",
    "room_df.loc[room_df.program_type == 'We', 'program_type'] = 'WE'\n",
    "room_df.loc[room_df.program_type == 'Operate', 'program_type'] = 'OPERATE'\n",
    "room_df.loc[room_df.program_type == 'Circulate', 'program_type'] = 'CIRCULATE'\n",
    "room_df.loc[room_df.program_type == 'Wash', 'program_type'] = 'WASH'\n",
    "room_df.program_type.value_counts()\n"
   ]
  },
  {
   "cell_type": "code",
   "execution_count": 43,
   "metadata": {},
   "outputs": [],
   "source": [
    "import numpy as np\n",
    "import matplotlib.pyplot as plt\n",
    "\n",
    "prgram_type_name = ['WORK', 'MEET', 'WE', 'OPERATE', 'CIRCULATE']\n",
    " \n",
    "work = room_df[room_df['program_type'] == 'WORK']\n",
    "meet = room_df[room_df['program_type'] == 'MEET']\n",
    "we = room_df[room_df['program_type'] == 'WE']\n",
    "operate = room_df[room_df['program_type'] == 'OPERATE']\n",
    "circulate = room_df[room_df['program_type'] == 'CIRCULATE']\n"
   ]
  },
  {
   "cell_type": "code",
   "execution_count": 177,
   "metadata": {},
   "outputs": [
    {
     "data": {
      "image/png": "[encoded data removed]",
      "text/plain": [
       "<Figure size 432x288 with 1 Axes>"
      ]
     },
     "metadata": {
      "needs_background": "light"
     },
     "output_type": "display_data"
    }
   ],
   "source": [
    "data = [work.area, meet.area, we.area, operate.area, circulate.area]\n",
    "fig7, ax7 = plt.subplots()\n",
    "# ax7.set_title('Multiple Samples with Different sizes')\n",
    "ax7.boxplot(data, labels= prgram_type_name, showfliers=False)\n",
    "\n",
    "plt.show()"
   ]
  },
  {
   "cell_type": "code",
   "execution_count": 164,
   "metadata": {},
   "outputs": [
    {
     "name": "stdout",
     "output_type": "stream",
     "text": [
      "218.22342402285798\n",
      "248.9759015586072\n",
      "93.16754659284884\n",
      "186.93971616620578\n",
      "80.64734501160298\n",
      "550.4085476732915\n"
     ]
    }
   ],
   "source": [
    "# Check Area of each room type\n",
    "print(room_df.area.mean())\n",
    "print(work.area.mean())\n",
    "print(meet.area.mean())\n",
    "print(we.area.mean())\n",
    "print(operate.area.mean())\n",
    "print(circulate.area.mean())"
   ]
  },
  {
   "cell_type": "code",
   "execution_count": 51,
   "metadata": {},
   "outputs": [
    {
     "data": {
      "text/plain": [
       "14.0"
      ]
     },
     "execution_count": 51,
     "metadata": {},
     "output_type": "execute_result"
    }
   ],
   "source": [
    "meet.desk_count.sum()"
   ]
  },
  {
   "cell_type": "code",
   "execution_count": 56,
   "metadata": {},
   "outputs": [
    {
     "data": {
      "image/png": "[encoded data removed]",
      "text/plain": [
       "<Figure size 432x288 with 1 Axes>"
      ]
     },
     "metadata": {
      "needs_background": "light"
     },
     "output_type": "display_data"
    }
   ],
   "source": [
    "data = [work.desk_count.dropna(), meet.desk_count.dropna(), we.desk_count.dropna(), operate.desk_count.dropna(), circulate.desk_count.dropna()]\n",
    "fig7, ax7 = plt.subplots()\n",
    "ax7.set_title('Multiple Samples with Different sizes')\n",
    "ax7.boxplot(data, labels= prgram_type_name, showfliers=False)\n",
    "\n",
    "plt.show()"
   ]
  },
  {
   "cell_type": "code",
   "execution_count": 72,
   "metadata": {},
   "outputs": [
    {
     "data": {
      "image/png": "[encoded data removed]",
      "text/plain": [
       "<Figure size 432x288 with 1 Axes>"
      ]
     },
     "metadata": {
      "needs_background": "light"
     },
     "output_type": "display_data"
    }
   ],
   "source": [
    "data = [work.physical_desk_count.dropna(), meet.physical_desk_count.dropna(), we.physical_desk_count.dropna(), operate.physical_desk_count.dropna(), circulate.physical_desk_count.dropna()]\n",
    "fig7, ax7 = plt.subplots()\n",
    "ax7.set_title('Multiple Samples with Different sizes')\n",
    "ax7.boxplot(data, labels= prgram_type_name, showfliers=False)\n",
    "plt.show()"
   ]
  },
  {
   "cell_type": "code",
   "execution_count": 78,
   "metadata": {},
   "outputs": [
    {
     "data": {
      "image/png": "[encoded data removed]",
      "text/plain": [
       "<Figure size 432x288 with 1 Axes>"
      ]
     },
     "metadata": {
      "needs_background": "light"
     },
     "output_type": "display_data"
    }
   ],
   "source": [
    "data = [work.work_units.dropna(), meet.work_units.dropna(), we.work_units.dropna(), operate.work_units.dropna(), circulate.work_units.dropna()]\n",
    "fig7, ax7 = plt.subplots()\n",
    "ax7.set_title('Multiple Samples with Different sizes')\n",
    "ax7.boxplot(data, labels= prgram_type_name, showfliers=False)\n",
    "\n",
    "plt.show()"
   ]
  },
  {
   "cell_type": "code",
   "execution_count": 89,
   "metadata": {},
   "outputs": [
    {
     "data": {
      "image/png": "[encoded data removed]",
      "text/plain": [
       "<Figure size 432x288 with 1 Axes>"
      ]
     },
     "metadata": {},
     "output_type": "display_data"
    },
    {
     "data": {
      "image/png": "[encoded data removed]",
      "text/plain": [
       "<Figure size 432x288 with 1 Axes>"
      ]
     },
     "metadata": {},
     "output_type": "display_data"
    },
    {
     "data": {
      "image/png": "[encoded data removed]",
      "text/plain": [
       "<Figure size 432x288 with 1 Axes>"
      ]
     },
     "metadata": {},
     "output_type": "display_data"
    },
    {
     "data": {
      "image/png": "[encoded data removed]",
      "text/plain": [
       "<Figure size 432x288 with 1 Axes>"
      ]
     },
     "metadata": {},
     "output_type": "display_data"
    },
    {
     "data": {
      "image/png": "[encoded data removed]",
      "text/plain": [
       "<Figure size 432x288 with 1 Axes>"
      ]
     },
     "metadata": {},
     "output_type": "display_data"
    }
   ],
   "source": [
    "# Data to plot\n",
    "labels = ['has-window', 'no-window']\n",
    "sizes = [work.has_window.sum(), sum(work.has_window == False)]\n",
    "colors = ['lightskyblue', 'yellowgreen']\n",
    "explode = (0, 0)  # explode 1st slice\n",
    "\n",
    "# Pie Chart\n",
    "plt.pie(sizes, explode=explode, labels=labels, colors=colors, autopct='%1.1f%%', shadow=True, startangle=140)\n",
    "plt.title(\"WORK\")\n",
    "\n",
    "plt.axis('equal')\n",
    "plt.show()\n",
    "\n",
    "\n",
    "# Data to plot\n",
    "labels = ['has-window', 'no-window']\n",
    "sizes = [meet.has_window.sum(), sum(meet.has_window == False)]\n",
    "colors = ['lightskyblue', 'yellowgreen']\n",
    "explode = (0, 0)  # explode 1st slice\n",
    "\n",
    "# Pie Chart\n",
    "plt.pie(sizes, explode=explode, labels=labels, colors=colors, autopct='%1.1f%%', shadow=True, startangle=140)\n",
    "plt.title(\"MEET\")\n",
    "\n",
    "plt.axis('equal')\n",
    "plt.show()\n",
    "\n",
    "\n",
    "# Data to plot\n",
    "labels = ['has-window', 'no-window']\n",
    "sizes = [we.has_window.sum(), sum(we.has_window == False)]\n",
    "colors = ['lightskyblue', 'yellowgreen']\n",
    "explode = (0, 0)  # explode 1st slice\n",
    "\n",
    "# Pie Chart\n",
    "plt.pie(sizes, explode=explode, labels=labels, colors=colors, autopct='%1.1f%%', shadow=True, startangle=140)\n",
    "plt.title(\"WE\")\n",
    "\n",
    "plt.axis('equal')\n",
    "plt.show()\n",
    "\n",
    "\n",
    "# Data to plot\n",
    "labels = ['has-window', 'no-window']\n",
    "sizes = [operate.has_window.sum(), sum(operate.has_window == False)]\n",
    "colors = ['lightskyblue', 'yellowgreen']\n",
    "explode = (0, 0)  # explode 1st slice\n",
    "\n",
    "# Pie Chart\n",
    "plt.pie(sizes, explode=explode, labels=labels, colors=colors, autopct='%1.1f%%', shadow=True, startangle=140)\n",
    "plt.title(\"OPERATE\")\n",
    "\n",
    "plt.axis('equal')\n",
    "plt.show()\n",
    "\n",
    "# Data to plot\n",
    "labels = ['has-window', 'no-window']\n",
    "sizes = [circulate.has_window.sum(), sum(circulate.has_window == False)]\n",
    "colors = ['lightskyblue', 'yellowgreen']\n",
    "explode = (0, 0)  # explode 1st slice\n",
    "\n",
    "# Pie Chart\n",
    "plt.pie(sizes, explode=explode, labels=labels, colors=colors, autopct='%1.1f%%', shadow=True, startangle=140)\n",
    "plt.title(\"CIRCULATE\")\n",
    "\n",
    "plt.axis('equal')\n",
    "plt.show()"
   ]
  },
  {
   "cell_type": "code",
   "execution_count": 176,
   "metadata": {},
   "outputs": [
    {
     "data": {
      "text/plain": [
       "11190.944821685023"
      ]
     },
     "execution_count": 176,
     "metadata": {},
     "output_type": "execute_result"
    }
   ],
   "source": [
    "mean_area_per_floor = np.array(room_df.groupby(['floor_id']).area.sum()).mean()\n",
    "mean_area_per_floor"
   ]
  },
  {
   "cell_type": "code",
   "execution_count": 175,
   "metadata": {},
   "outputs": [
    {
     "data": {
      "text/plain": [
       "51.282051282051285"
      ]
     },
     "execution_count": 175,
     "metadata": {},
     "output_type": "execute_result"
    }
   ],
   "source": [
    "mean_room_per_floor = np.array(room_df.groupby(['floor_id']).count()['Unnamed: 0']).mean()\n",
    "mean_room_per_floor"
   ]
  },
  {
   "cell_type": "code",
   "execution_count": 105,
   "metadata": {},
   "outputs": [],
   "source": [
    "relation = room_df.groupby(['floor_id','program_type']).size().reset_index()\n",
    "relation.columns = ['floor_id', 'program_type', 'count']"
   ]
  },
  {
   "cell_type": "code",
   "execution_count": 144,
   "metadata": {},
   "outputs": [],
   "source": [
    "room_number_per_prog = relation.groupby('program_type').mean().sort_values(by = ['count'], ascending=False)"
   ]
  },
  {
   "cell_type": "code",
   "execution_count": 152,
   "metadata": {},
   "outputs": [
    {
     "data": {
      "text/html": [
       "<div>\n",
       "<style scoped>\n",
       "    .dataframe tbody tr th:only-of-type {\n",
       "        vertical-align: middle;\n",
       "    }\n",
       "\n",
       "    .dataframe tbody tr th {\n",
       "        vertical-align: top;\n",
       "    }\n",
       "\n",
       "    .dataframe thead th {\n",
       "        text-align: right;\n",
       "    }\n",
       "</style>\n",
       "<table border=\"1\" class=\"dataframe\">\n",
       "  <thead>\n",
       "    <tr style=\"text-align: right;\">\n",
       "      <th></th>\n",
       "      <th>count</th>\n",
       "    </tr>\n",
       "    <tr>\n",
       "      <th>program_type</th>\n",
       "      <th></th>\n",
       "    </tr>\n",
       "  </thead>\n",
       "  <tbody>\n",
       "    <tr>\n",
       "      <th>WORK</th>\n",
       "      <td>26.505263</td>\n",
       "    </tr>\n",
       "    <tr>\n",
       "      <th>WE</th>\n",
       "      <td>8.504000</td>\n",
       "    </tr>\n",
       "    <tr>\n",
       "      <th>MEET</th>\n",
       "      <td>7.629412</td>\n",
       "    </tr>\n",
       "    <tr>\n",
       "      <th>OPERATE</th>\n",
       "      <td>4.837079</td>\n",
       "    </tr>\n",
       "    <tr>\n",
       "      <th>SERVE</th>\n",
       "      <td>3.825000</td>\n",
       "    </tr>\n",
       "    <tr>\n",
       "      <th>WASH</th>\n",
       "      <td>3.698324</td>\n",
       "    </tr>\n",
       "    <tr>\n",
       "      <th>CIRCULATE</th>\n",
       "      <td>3.576720</td>\n",
       "    </tr>\n",
       "    <tr>\n",
       "      <th>INFRASTRUCTURE</th>\n",
       "      <td>2.411765</td>\n",
       "    </tr>\n",
       "    <tr>\n",
       "      <th>EAT &amp; DRINK</th>\n",
       "      <td>1.875000</td>\n",
       "    </tr>\n",
       "    <tr>\n",
       "      <th>PLAY</th>\n",
       "      <td>1.000000</td>\n",
       "    </tr>\n",
       "    <tr>\n",
       "      <th>THRIVE</th>\n",
       "      <td>1.000000</td>\n",
       "    </tr>\n",
       "  </tbody>\n",
       "</table>\n",
       "</div>"
      ],
      "text/plain": [
       "                    count\n",
       "program_type             \n",
       "WORK            26.505263\n",
       "WE               8.504000\n",
       "MEET             7.629412\n",
       "OPERATE          4.837079\n",
       "SERVE            3.825000\n",
       "WASH             3.698324\n",
       "CIRCULATE        3.576720\n",
       "INFRASTRUCTURE   2.411765\n",
       "EAT & DRINK      1.875000\n",
       "PLAY             1.000000\n",
       "THRIVE           1.000000"
      ]
     },
     "execution_count": 152,
     "metadata": {},
     "output_type": "execute_result"
    }
   ],
   "source": [
    "room_number_per_prog"
   ]
  },
  {
   "cell_type": "code",
   "execution_count": 174,
   "metadata": {},
   "outputs": [
    {
     "data": {
      "image/png": "[encoded data removed]",
      "text/plain": [
       "<Figure size 432x288 with 1 Axes>"
      ]
     },
     "metadata": {},
     "output_type": "display_data"
    }
   ],
   "source": [
    "# Data to plot\n",
    "labels = ['WORK', 'WE', 'MEET', 'OPERATE', 'CIRCULATE']\n",
    "\n",
    "work_area = work.area.mean() * float(room_number_per_prog.iloc[0])\n",
    "meet_area = meet.area.mean() * float(room_number_per_prog.iloc[2])\n",
    "we_area = we.area.mean() * float(room_number_per_prog.iloc[1])\n",
    "operate_area = operate.area.mean() * float(room_number_per_prog.iloc[3])\n",
    "circulate_area = circulate.area.mean() * float(room_number_per_prog.iloc[6])\n",
    "# whole = mean_area_per_floor\n",
    "# others = whole - work_area - meet_area - we_area - operate_area - circulate_area\n",
    "\n",
    "sizes = [work_area, meet_area, we_area, operate_area, circulate_area]\n",
    "colors = ['lightskyblue', 'yellowgreen', 'yellow', 'blue', 'red']\n",
    "explode = (0, 0, 0, 0, 0)  # explode 1st slice\n",
    "\n",
    "# Pie Chart\n",
    "plt.pie(sizes, explode=explode, labels=labels, colors=colors, autopct='%1.1f%%', shadow=True, startangle=140)\n",
    "plt.title(\"Program Type Proportion\\n\")\n",
    "\n",
    "plt.axis('equal')\n",
    "plt.show()\n",
    "\n"
   ]
  },
  {
   "cell_type": "code",
   "execution_count": null,
   "metadata": {},
   "outputs": [],
   "source": []
  }
 ],
 "metadata": {
  "kernelspec": {
   "display_name": "Python 3",
   "language": "python",
   "name": "python3"
  },
  "language_info": {
   "codemirror_mode": {
    "name": "ipython",
    "version": 3
   },
   "file_extension": ".py",
   "mimetype": "text/x-python",
   "name": "python",
   "nbconvert_exporter": "python",
   "pygments_lexer": "ipython3",
   "version": "3.7.3"
  }
 },
 "nbformat": 4,
 "nbformat_minor": 2
}
